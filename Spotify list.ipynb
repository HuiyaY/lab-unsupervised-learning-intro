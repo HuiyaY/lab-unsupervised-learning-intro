{
 "cells": [
  {
   "cell_type": "code",
   "execution_count": 1,
   "id": "81060b07",
   "metadata": {},
   "outputs": [
    {
     "name": "stdout",
     "output_type": "stream",
     "text": [
      "········\n",
      "········\n"
     ]
    }
   ],
   "source": [
    "import requests\n",
    "import getpass\n",
    "cid = getpass.getpass()\n",
    "secret_id = getpass.getpass()"
   ]
  },
  {
   "cell_type": "code",
   "execution_count": 2,
   "id": "2af67b6e",
   "metadata": {},
   "outputs": [],
   "source": [
    "# !pip install spotipy"
   ]
  },
  {
   "cell_type": "code",
   "execution_count": 3,
   "id": "85b0884b",
   "metadata": {},
   "outputs": [],
   "source": [
    "import pandas as pd\n",
    "import spotipy\n",
    "from spotipy.oauth2 import SpotifyClientCredentials\n",
    "from random import randint\n",
    "from time import sleep\n",
    "from pandas import json_normalize"
   ]
  },
  {
   "cell_type": "code",
   "execution_count": 4,
   "id": "c9a2c3a0",
   "metadata": {},
   "outputs": [
    {
     "data": {
      "text/plain": [
       "<_io.TextIOWrapper name='secrets.txt' mode='r' encoding='UTF-8'>"
      ]
     },
     "execution_count": 4,
     "metadata": {},
     "output_type": "execute_result"
    }
   ],
   "source": [
    "secrets_file = open('secrets.txt','r')\n",
    "secrets_file"
   ]
  },
  {
   "cell_type": "code",
   "execution_count": 5,
   "id": "cbdfac77",
   "metadata": {},
   "outputs": [
    {
     "data": {
      "text/plain": [
       "'client_id:d2b0e15338ce4373808898efbef3738c\\nclient_secret:12f3e85b1b9c4aa2b1e8f586601caf9e'"
      ]
     },
     "execution_count": 5,
     "metadata": {},
     "output_type": "execute_result"
    }
   ],
   "source": [
    "string = secrets_file.read()\n",
    "string"
   ]
  },
  {
   "cell_type": "code",
   "execution_count": 6,
   "id": "fcce420a",
   "metadata": {},
   "outputs": [
    {
     "data": {
      "text/plain": [
       "['client_id:d2b0e15338ce4373808898efbef3738c',\n",
       " 'client_secret:12f3e85b1b9c4aa2b1e8f586601caf9e']"
      ]
     },
     "execution_count": 6,
     "metadata": {},
     "output_type": "execute_result"
    }
   ],
   "source": [
    "string.split('\\n')"
   ]
  },
  {
   "cell_type": "code",
   "execution_count": 7,
   "id": "be32c8f2",
   "metadata": {},
   "outputs": [],
   "source": [
    "secrets_dict={}\n",
    "for line in string.split('\\n'):\n",
    "    if len(line)>0:\n",
    "        secrets_dict[line.split(':')[0]]=line.split(':')[1]"
   ]
  },
  {
   "cell_type": "code",
   "execution_count": 8,
   "id": "f5e7990d",
   "metadata": {},
   "outputs": [
    {
     "data": {
      "text/plain": [
       "{'client_id': 'd2b0e15338ce4373808898efbef3738c',\n",
       " 'client_secret': '12f3e85b1b9c4aa2b1e8f586601caf9e'}"
      ]
     },
     "execution_count": 8,
     "metadata": {},
     "output_type": "execute_result"
    }
   ],
   "source": [
    "secrets_dict"
   ]
  },
  {
   "cell_type": "code",
   "execution_count": 9,
   "id": "62636580",
   "metadata": {},
   "outputs": [],
   "source": [
    "import spotipy\n",
    "from spotipy.oauth2 import SpotifyClientCredentials\n",
    "\n",
    "sp = spotipy.Spotify(auth_manager=SpotifyClientCredentials(client_id=secrets_dict['client_id'],\n",
    "                                                           client_secret=secrets_dict['client_secret']))"
   ]
  },
  {
   "cell_type": "code",
   "execution_count": 10,
   "id": "b9766aca",
   "metadata": {},
   "outputs": [],
   "source": [
    "playlist = sp.user_playlist_tracks(\"spotify\", \"6yPiKpy7evrwvZodByKvM9\")"
   ]
  },
  {
   "cell_type": "code",
   "execution_count": 11,
   "id": "02a5ccfb",
   "metadata": {},
   "outputs": [
    {
     "data": {
      "text/plain": [
       "10000"
      ]
     },
     "execution_count": 11,
     "metadata": {},
     "output_type": "execute_result"
    }
   ],
   "source": [
    "playlist[\"total\"]"
   ]
  },
  {
   "cell_type": "code",
   "execution_count": 12,
   "id": "7d5ee1d3",
   "metadata": {},
   "outputs": [],
   "source": [
    "def get_playlist_tracks(playlist_id):\n",
    "    results = sp.user_playlist_tracks(\"spotify\",playlist_id)\n",
    "    tracks = results['items']\n",
    "    while results['next']!=None:\n",
    "        try:\n",
    "            results = sp.next(results)\n",
    "            tracks = tracks + results['items']\n",
    "            sleep(randint(1,3))\n",
    "        except:\n",
    "            print('\\not there.')\n",
    "            time.sleep(5)\n",
    "    return tracks"
   ]
  },
  {
   "cell_type": "code",
   "execution_count": null,
   "id": "c79c0c72",
   "metadata": {},
   "outputs": [],
   "source": [
    "all_tracks = get_playlist_tracks(\"6yPiKpy7evrwvZodByKvM9\")"
   ]
  },
  {
   "cell_type": "code",
   "execution_count": null,
   "id": "0bca80cc",
   "metadata": {},
   "outputs": [],
   "source": [
    "all_tracks[0]['track']['artists'][0]['name']"
   ]
  },
  {
   "cell_type": "code",
   "execution_count": null,
   "id": "31a67bf3",
   "metadata": {},
   "outputs": [],
   "source": [
    "\n",
    "all_tracks[0]['track']['external_urls']['spotify']"
   ]
  },
  {
   "cell_type": "code",
   "execution_count": null,
   "id": "3215f6c6",
   "metadata": {},
   "outputs": [],
   "source": [
    "all_tracks[0][\"track\"][\"name\"]"
   ]
  },
  {
   "cell_type": "code",
   "execution_count": null,
   "id": "60333db4",
   "metadata": {},
   "outputs": [],
   "source": [
    "all_tracks[0]['track']['uri']"
   ]
  },
  {
   "cell_type": "code",
   "execution_count": null,
   "id": "838fe112",
   "metadata": {},
   "outputs": [],
   "source": [
    "all_tracks[1]['track']['popularity']"
   ]
  },
  {
   "cell_type": "code",
   "execution_count": null,
   "id": "2c6bf186",
   "metadata": {},
   "outputs": [],
   "source": [
    "\n",
    "df = pd.DataFrame(columns=['artist','song','popularity', 'uri', 'url'])\n",
    "\n",
    "\n",
    "for track in all_tracks:\n",
    "    artist_name = track['track']['artists'][0]['name']\n",
    "    song_name = track['track']['name']\n",
    "    popularity = track[\"track\"][\"popularity\"]\n",
    "    uri = track[\"track\"][\"uri\"]\n",
    "    url = track[\"track\"][\"external_urls\"]\n",
    "    df = df.append({'artist':artist_name,'song':song_name, 'popularity':popularity, 'uri':uri, 'url':url}, ignore_index=True)\n",
    "\n",
    "print(df)"
   ]
  },
  {
   "cell_type": "code",
   "execution_count": null,
   "id": "a13763ef",
   "metadata": {},
   "outputs": [],
   "source": [
    "\n",
    "# sp.audio_features(song_uri)"
   ]
  },
  {
   "cell_type": "code",
   "execution_count": null,
   "id": "da7ed6bc",
   "metadata": {},
   "outputs": [],
   "source": [
    "df['url'] = json_normalize(df['url'])"
   ]
  },
  {
   "cell_type": "code",
   "execution_count": null,
   "id": "f5c2eacb",
   "metadata": {},
   "outputs": [],
   "source": [
    "df.to_csv('df.csv', index=False)"
   ]
  },
  {
   "cell_type": "code",
   "execution_count": null,
   "id": "0f694618",
   "metadata": {},
   "outputs": [],
   "source": [
    "# features\n",
    "       "
   ]
  },
  {
   "cell_type": "code",
   "execution_count": null,
   "id": "d0920fa9",
   "metadata": {},
   "outputs": [],
   "source": [
    "df.head()"
   ]
  },
  {
   "cell_type": "code",
   "execution_count": null,
   "id": "16361269",
   "metadata": {},
   "outputs": [],
   "source": [
    "song_uri=df['uri'][0]"
   ]
  },
  {
   "cell_type": "code",
   "execution_count": null,
   "id": "4b6475ea",
   "metadata": {},
   "outputs": [],
   "source": [
    "sp.audio_features(song_uri)"
   ]
  },
  {
   "cell_type": "code",
   "execution_count": null,
   "id": "e731c53a",
   "metadata": {},
   "outputs": [],
   "source": [
    "df.shape"
   ]
  },
  {
   "cell_type": "code",
   "execution_count": null,
   "id": "59061462",
   "metadata": {},
   "outputs": [],
   "source": [
    "audio_features = []\n",
    "for uri in df[\"uri\"]:\n",
    "    audio_features.append(sp.audio_features(uri))"
   ]
  },
  {
   "cell_type": "code",
   "execution_count": null,
   "id": "fb1d4257",
   "metadata": {},
   "outputs": [],
   "source": [
    "len(audio_features)"
   ]
  },
  {
   "cell_type": "code",
   "execution_count": null,
   "id": "a50eb4e0",
   "metadata": {},
   "outputs": [],
   "source": [
    "df_features = [pd.DataFrame(d, index=[i]) for i, d in enumerate(audio_features)]\n",
    "df_features_full = pd.concat(df_features)"
   ]
  },
  {
   "cell_type": "code",
   "execution_count": null,
   "id": "0e3b3078",
   "metadata": {},
   "outputs": [],
   "source": [
    "df_data = pd.merge(left = df,\n",
    "                                  right = df_features_full,\n",
    "                                  how = 'inner', \n",
    "                                  left_on = \"uri\", \n",
    "                                  right_on= \"uri\")\n",
    "df_data"
   ]
  },
  {
   "cell_type": "code",
   "execution_count": null,
   "id": "b8c0be94",
   "metadata": {},
   "outputs": [],
   "source": [
    "df_data.to_csv(\"df_data.csv\", index = False)"
   ]
  },
  {
   "cell_type": "code",
   "execution_count": null,
   "id": "b891b7b8",
   "metadata": {},
   "outputs": [],
   "source": [
    "df_data = pd.read_csv('df_data.csv')\n",
    "df_data"
   ]
  }
 ],
 "metadata": {
  "kernelspec": {
   "display_name": "Python 3 (ipykernel)",
   "language": "python",
   "name": "python3"
  },
  "language_info": {
   "codemirror_mode": {
    "name": "ipython",
    "version": 3
   },
   "file_extension": ".py",
   "mimetype": "text/x-python",
   "name": "python",
   "nbconvert_exporter": "python",
   "pygments_lexer": "ipython3",
   "version": "3.9.13"
  }
 },
 "nbformat": 4,
 "nbformat_minor": 5
}
